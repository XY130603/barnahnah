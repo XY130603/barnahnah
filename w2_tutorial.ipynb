{
 "cells": [
  {
   "cell_type": "markdown",
   "id": "3ee3102d",
   "metadata": {},
   "source": [
    "# Tutorial week 2\n",
    "\n",
    "Learning outcomes:\n",
    "1. Python fundamentals\n",
    "    * Basic syntax\n",
    "    * Data types\n",
    "    * Data structures\n",
    "    * Custom function\n",
    "    * `Numpy` and `matplotlib` modules\n",
    "3. Familiar with the creation of custom images."
   ]
  },
  {
   "cell_type": "markdown",
   "id": "1a5d8775",
   "metadata": {},
   "source": [
    "## Python fundamentals\n",
    "\n",
    "### Basic syntax"
   ]
  },
  {
   "cell_type": "code",
   "execution_count": 32,
   "id": "dc6957b6",
   "metadata": {},
   "outputs": [
    {
     "name": "stdout",
     "output_type": "stream",
     "text": [
      "Hello World!\n"
     ]
    }
   ],
   "source": [
    "print(\"Hello World!\")\n",
    "# You can comment in codeblock using # at the front"
   ]
  },
  {
   "cell_type": "markdown",
   "id": "ce9161ab",
   "metadata": {},
   "source": [
    "### Data types\n",
    "* floating point numbers, e.g. `float32` and `float64`.\n",
    "* complex number\n",
    "* string\n",
    "* integer\n",
    "* bytes\n",
    "* boolean\n",
    "\n",
    "| Class | Basic Types |\n",
    "| ------- | --------- |\n",
    "| `int` | Integer |\n",
    "| `float` | floating point number |\n",
    "| `complex` | Complex number |\n",
    "| `str` | string or character |\n",
    "| `bytes`, `bytearray` | bytes |\n",
    "| `bool` | Boolean |"
   ]
  },
  {
   "cell_type": "code",
   "execution_count": 2,
   "id": "aa85bb5f",
   "metadata": {},
   "outputs": [
    {
     "name": "stdout",
     "output_type": "stream",
     "text": [
      "<class 'int'>\n",
      "<class 'float'>\n",
      "<class 'complex'>\n",
      "<class 'str'>\n"
     ]
    }
   ],
   "source": [
    "x = 5\n",
    "y = 7.1\n",
    "z = 1j\n",
    "z1 = \"I am human\"\n",
    "\n",
    "print(type(x))\n",
    "print(type(y))\n",
    "print(type(z))\n",
    "print(type(z1))"
   ]
  },
  {
   "cell_type": "code",
   "execution_count": 3,
   "id": "4314cd73",
   "metadata": {},
   "outputs": [
    {
     "name": "stdout",
     "output_type": "stream",
     "text": [
      "0\n",
      "7.6\n"
     ]
    }
   ],
   "source": [
    "# We can do casting, specify the data type by these syntax, float(), int() and str()\n",
    "y = 8 / 10\n",
    "z = \"7.6\"\n",
    "\n",
    "print(int(y))\n",
    "print(float(z))"
   ]
  },
  {
   "cell_type": "markdown",
   "id": "deeaf4ef",
   "metadata": {},
   "source": [
    "### Data structures (native to Python)\n",
    "\n",
    "#### List and tuple\n",
    "List and tuple are both variables that can store multiple items. The major differences between the 2 are:\n",
    "* Elements in list is enclosed with square brackets, while tuple is written with parentheses.\n",
    "* List is changeable, while tuple is unchangeable."
   ]
  },
  {
   "cell_type": "code",
   "execution_count": 4,
   "id": "80e9c28a",
   "metadata": {},
   "outputs": [
    {
     "name": "stdout",
     "output_type": "stream",
     "text": [
      "['a', 'b', 'c']\n",
      "('a', 'b', 'c')\n"
     ]
    }
   ],
   "source": [
    "mylist = [\"a\", \"b\", \"c\"]\n",
    "print(mylist)\n",
    "\n",
    "mytuple = (\"a\", \"b\", \"c\")\n",
    "print(mytuple)"
   ]
  },
  {
   "cell_type": "code",
   "execution_count": 5,
   "id": "cb5d9b42",
   "metadata": {},
   "outputs": [
    {
     "name": "stdout",
     "output_type": "stream",
     "text": [
      "[1, 'b', 'c']\n"
     ]
    }
   ],
   "source": [
    "mylist[0] = 1\n",
    "print(mylist)"
   ]
  },
  {
   "cell_type": "code",
   "execution_count": 6,
   "id": "8cf0341f",
   "metadata": {},
   "outputs": [
    {
     "name": "stdout",
     "output_type": "stream",
     "text": [
      "Tuple is immutable\n"
     ]
    }
   ],
   "source": [
    "try:\n",
    "    mytuple[0] = 1\n",
    "except:\n",
    "    print(\"Tuple is immutable\")"
   ]
  },
  {
   "cell_type": "markdown",
   "id": "d7929cf7-c996-48ed-ad7b-04392cc27566",
   "metadata": {},
   "source": [
    "#### dictionary\n",
    "Dictionary are used to stire data values in key:value pairs. "
   ]
  },
  {
   "cell_type": "code",
   "execution_count": 7,
   "id": "a7565846-3e7d-47ef-89db-7c11f3b895b8",
   "metadata": {},
   "outputs": [
    {
     "name": "stdout",
     "output_type": "stream",
     "text": [
      "{'brand': 'Proton', 'model': 'Saga', 'year': 2022}\n"
     ]
    }
   ],
   "source": [
    "car = {\n",
    "    \"brand\": \"Proton\",\n",
    "    \"model\": \"Saga\",\n",
    "    \"year\": 2022\n",
    "}\n",
    "print(car)"
   ]
  },
  {
   "cell_type": "code",
   "execution_count": 8,
   "id": "06ef6eeb-2335-485d-9d40-3f4ea728955a",
   "metadata": {},
   "outputs": [
    {
     "name": "stdout",
     "output_type": "stream",
     "text": [
      "2022\n",
      "Saga\n"
     ]
    }
   ],
   "source": [
    "# access values in dictionary\n",
    "print(car[\"year\"])\n",
    "print(car.get(\"model\"))"
   ]
  },
  {
   "cell_type": "code",
   "execution_count": 9,
   "id": "e5680994-f5cb-4052-bbc8-a23d8c00057d",
   "metadata": {},
   "outputs": [
    {
     "name": "stdout",
     "output_type": "stream",
     "text": [
      "dict_keys(['brand', 'model', 'year'])\n",
      "dict_values(['Proton', 'Saga', 2022])\n",
      "dict_items([('brand', 'Proton'), ('model', 'Saga'), ('year', 2022)])\n"
     ]
    }
   ],
   "source": [
    "# keys, values and items\n",
    "print(car.keys())\n",
    "print(car.values())\n",
    "print(car.items())"
   ]
  },
  {
   "cell_type": "code",
   "execution_count": 10,
   "id": "fe99e003-d9f5-4e2a-82ef-9935709e6a76",
   "metadata": {},
   "outputs": [
    {
     "name": "stdout",
     "output_type": "stream",
     "text": [
      "Persona\n"
     ]
    }
   ],
   "source": [
    "# change the values of key\n",
    "car[\"model\"] = \"Persona\"\n",
    "print(car.get(\"model\"))"
   ]
  },
  {
   "cell_type": "markdown",
   "id": "300f8814-8fc8-4a82-9d74-36e254ad0930",
   "metadata": {},
   "source": [
    "### Exercise\n",
    "1. Can you create a list of squared number from $1^2$ to $10^2$?\n",
    "2. Create a dictionary with key as `grocer` and value as `prices` as shown below:\n",
    "```\n",
    "grocer = ['bread', 'milk', 'egg', 'vegetables', 'fish']\n",
    "prices = [4., 5.2, 4.2, 8.5, 20.6]\n",
    "```"
   ]
  },
  {
   "cell_type": "code",
   "execution_count": 11,
   "id": "72f952bf",
   "metadata": {},
   "outputs": [
    {
     "name": "stdout",
     "output_type": "stream",
     "text": [
      "[1, 4, 9, 16, 25, 36, 49, 64, 81, 100]\n"
     ]
    }
   ],
   "source": [
    "squares = [x**2 for x in range(1,11)]\n",
    "print(squares)"
   ]
  },
  {
   "cell_type": "code",
   "execution_count": 12,
   "id": "e7dc28a2",
   "metadata": {},
   "outputs": [
    {
     "name": "stdout",
     "output_type": "stream",
     "text": [
      "{'bread': 4.0, 'milk': 5.2, 'egg': 4.2, 'vegetables': 8.5, 'fish': 20.6}\n"
     ]
    }
   ],
   "source": [
    "grocer = ['bread', 'milk', 'egg', 'vegetables', 'fish']\n",
    "prices = [4., 5.2, 4.2, 8.5, 20.6]\n",
    "grocer_prices = dict(zip(grocer,prices))\n",
    "print(grocer_prices)"
   ]
  },
  {
   "cell_type": "markdown",
   "id": "529a1202-c333-4c22-83df-b729a5f5dc74",
   "metadata": {},
   "source": [
    "## Custom function"
   ]
  },
  {
   "cell_type": "code",
   "execution_count": 13,
   "id": "ee0a3e44-4ea4-4ee4-81d8-930e7159510d",
   "metadata": {},
   "outputs": [],
   "source": [
    "def simple_add(x, y):\n",
    "    # It is a good practice to include docstring\n",
    "    \"\"\"Function to add 2 numbers:\n",
    "    Parameters:\n",
    "    x & y: must be numbers\n",
    "    \n",
    "    Returns:\n",
    "    result of addition\"\"\"\n",
    "    return (x + y)"
   ]
  },
  {
   "cell_type": "code",
   "execution_count": 14,
   "id": "0bbd7fe1-336e-4f0a-9a17-643d991c5530",
   "metadata": {},
   "outputs": [
    {
     "data": {
      "text/plain": [
       "13"
      ]
     },
     "execution_count": 14,
     "metadata": {},
     "output_type": "execute_result"
    }
   ],
   "source": [
    "simple_add(3, 10)"
   ]
  },
  {
   "cell_type": "markdown",
   "id": "f7b77111-f01e-4bfb-94b9-204c05f9b987",
   "metadata": {},
   "source": [
    "But the above function is not robust, since it will invoke error if user provide non-numeric arguments."
   ]
  },
  {
   "cell_type": "code",
   "execution_count": 15,
   "id": "8e82dadc-8512-4988-a3ff-8cdea0ea7560",
   "metadata": {},
   "outputs": [],
   "source": [
    "import numbers\n",
    "\n",
    "def simple_add(x, y):\n",
    "    \"\"\"Function to add 2 numbers:\n",
    "    Parameters:\n",
    "    x & y: must be numbers\n",
    "    \n",
    "    Returns:\n",
    "    result of addition\"\"\"\n",
    "\n",
    "    if isinstance(x, numbers.Number) and isinstance(y, numbers.Number):\n",
    "        return x + y\n",
    "    else:\n",
    "        print(\"Invalid input argument\")"
   ]
  },
  {
   "cell_type": "code",
   "execution_count": 16,
   "id": "43ceea52-a888-413b-8d83-253123f10bb2",
   "metadata": {},
   "outputs": [
    {
     "data": {
      "text/plain": [
       "10"
      ]
     },
     "execution_count": 16,
     "metadata": {},
     "output_type": "execute_result"
    }
   ],
   "source": [
    "simple_add(20, -10)"
   ]
  },
  {
   "cell_type": "code",
   "execution_count": 17,
   "id": "b424b728-dd0a-4b8b-9bec-ceb3b6606794",
   "metadata": {},
   "outputs": [
    {
     "name": "stdout",
     "output_type": "stream",
     "text": [
      "Invalid input argument\n"
     ]
    }
   ],
   "source": [
    "simple_add(7, \"a\")"
   ]
  },
  {
   "cell_type": "markdown",
   "id": "9a7e8bb6-0e23-4398-bd2f-40754414cb02",
   "metadata": {},
   "source": [
    "Another way to control Exception: use `try` and `except` blocks"
   ]
  },
  {
   "cell_type": "code",
   "execution_count": 18,
   "id": "67967ecb-55d3-43d1-abfd-6e510a30577f",
   "metadata": {},
   "outputs": [],
   "source": [
    "def simple_add(x, y):\n",
    "    \"\"\"Function to add 2 numbers:\n",
    "    Parameters:\n",
    "    x & y: must be numbers\n",
    "    \n",
    "    Returns:\n",
    "    result of addition\"\"\"\n",
    "    try:\n",
    "        return x + y\n",
    "    except Exception as e:\n",
    "        print(e)"
   ]
  },
  {
   "cell_type": "code",
   "execution_count": 19,
   "id": "525aac03-9071-43c7-b466-b801fb60c2f0",
   "metadata": {},
   "outputs": [
    {
     "name": "stdout",
     "output_type": "stream",
     "text": [
      "unsupported operand type(s) for +: 'int' and 'str'\n"
     ]
    }
   ],
   "source": [
    "simple_add(7, \"a\")"
   ]
  },
  {
   "cell_type": "markdown",
   "id": "0c60910d",
   "metadata": {},
   "source": [
    "## Numpy module\n",
    "Numpy is a Python module used for working with arrays. Numpy provides array object that is faster than Python lists. This is due to locality of reference. NumPy arrays are stored at one continuous place in memory unlike lists, so processes can access and manipulate them very efficiently. "
   ]
  },
  {
   "cell_type": "code",
   "execution_count": 20,
   "id": "82423681",
   "metadata": {},
   "outputs": [],
   "source": [
    "import numpy as np"
   ]
  },
  {
   "cell_type": "markdown",
   "id": "5c3a0a88",
   "metadata": {},
   "source": [
    "### Create Numpy array"
   ]
  },
  {
   "cell_type": "code",
   "execution_count": 21,
   "id": "25f37868",
   "metadata": {},
   "outputs": [
    {
     "name": "stdout",
     "output_type": "stream",
     "text": [
      "[1 2 3 4 5]\n",
      "<class 'numpy.ndarray'>\n"
     ]
    }
   ],
   "source": [
    "x = np.array([1, 2, 3, 4, 5])\n",
    "print(x)\n",
    "print(type(x))"
   ]
  },
  {
   "cell_type": "markdown",
   "id": "58472cda",
   "metadata": {},
   "source": [
    "### Array indexing"
   ]
  },
  {
   "cell_type": "code",
   "execution_count": 22,
   "id": "84e2c63b",
   "metadata": {},
   "outputs": [
    {
     "name": "stdout",
     "output_type": "stream",
     "text": [
      "1\n",
      "5\n"
     ]
    }
   ],
   "source": [
    "# Lets access the first and last element of x\n",
    "print(x[0])\n",
    "print(x[-1])"
   ]
  },
  {
   "cell_type": "code",
   "execution_count": 23,
   "id": "6e6ddf91",
   "metadata": {},
   "outputs": [
    {
     "name": "stdout",
     "output_type": "stream",
     "text": [
      "[ 1  2  3  4  5  6  7  8  9 10]\n"
     ]
    }
   ],
   "source": [
    "x1 = np.array([6, 7, 8, 9, 10])\n",
    "x_long = np.concatenate((x, x1), axis=None)\n",
    "print(x_long)"
   ]
  },
  {
   "cell_type": "markdown",
   "id": "1980dfd2",
   "metadata": {},
   "source": [
    "A `numpy.ndarray` is a generic multidimensional container for homogeneous data, i.e. all the elements must be of the same data type. Every array has a **shape**, which is expressed as tuple, indicating the size of each dimension as well as a **dtype**, an object describing the data type of the array."
   ]
  },
  {
   "cell_type": "code",
   "execution_count": 24,
   "id": "9b152e47",
   "metadata": {},
   "outputs": [
    {
     "name": "stdout",
     "output_type": "stream",
     "text": [
      "The shape of variable x_long: (10,)\n",
      "int64\n"
     ]
    }
   ],
   "source": [
    "print(f\"The shape of variable x_long: {x_long.shape}\")\n",
    "print(x_long.dtype)"
   ]
  },
  {
   "cell_type": "markdown",
   "id": "7e2449b5-2e09-4ae2-9e7f-1bc5cd3f01df",
   "metadata": {},
   "source": [
    "## Exercise\n",
    "1. Replace all the negative values in the list with zero.\n",
    "```\n",
    "ratings = [5, 2, 1, -1, 5, 3, 4, -1, 4]\n",
    "```"
   ]
  },
  {
   "cell_type": "code",
   "execution_count": 25,
   "id": "09bdd3f0",
   "metadata": {},
   "outputs": [
    {
     "name": "stdout",
     "output_type": "stream",
     "text": [
      "[5, 2, 1, -1, 5, 3, 4, -1, 4]\n"
     ]
    }
   ],
   "source": [
    "ratings = [5, 2, 1, -1, 5, 3, 4, -1, 4]\n",
    "print(ratings)"
   ]
  },
  {
   "cell_type": "code",
   "execution_count": 26,
   "id": "5d48e19c",
   "metadata": {},
   "outputs": [
    {
     "name": "stdout",
     "output_type": "stream",
     "text": [
      "[5, 2, 1, 0, 5, 3, 4, -1, 4]\n"
     ]
    }
   ],
   "source": [
    "for k in ratings:\n",
    "    if ratings[k] < 0:\n",
    "        ratings[k] = 0\n",
    "print(ratings)"
   ]
  },
  {
   "cell_type": "markdown",
   "id": "a8c620e3",
   "metadata": {},
   "source": [
    "## Custom image using Numpy\n",
    "Now that you have some basic understanding of the data structure of digital image, lets try to create a custom image with the help of Numpy library. "
   ]
  },
  {
   "cell_type": "code",
   "execution_count": 27,
   "id": "331f3176",
   "metadata": {},
   "outputs": [],
   "source": [
    "import matplotlib.pyplot as plt"
   ]
  },
  {
   "cell_type": "code",
   "execution_count": 28,
   "id": "f696dbde",
   "metadata": {},
   "outputs": [
    {
     "data": {
      "image/png": "[encoded data removed]",
      "text/plain": [
       "<Figure size 640x480 with 1 Axes>"
      ]
     },
     "metadata": {},
     "output_type": "display_data"
    }
   ],
   "source": [
    "# Create a dark grayscale image (2D array)\n",
    "gray = np.zeros((200, 200), dtype=\"uint8\")\n",
    "\n",
    "plt.imshow(gray, cmap = plt.cm.gray)\n",
    "plt.title(\"grayscale black image\")\n",
    "plt.xticks([]), plt.yticks([])\n",
    "plt.show()"
   ]
  },
  {
   "cell_type": "code",
   "execution_count": 29,
   "id": "866c2803",
   "metadata": {},
   "outputs": [
    {
     "data": {
      "image/png": "[encoded data removed]",
      "text/plain": [
       "<Figure size 640x480 with 1 Axes>"
      ]
     },
     "metadata": {},
     "output_type": "display_data"
    }
   ],
   "source": [
    "white = 255 * np.ones((200, 200))\n",
    "white = np.uint8(white)\n",
    "\n",
    "plt.imshow(white, cmap = plt.cm.gray, vmin=0, vmax=255)\n",
    "plt.title(\"grayscale white image\")\n",
    "plt.xticks([]), plt.yticks([])\n",
    "plt.show()"
   ]
  },
  {
   "cell_type": "code",
   "execution_count": 30,
   "id": "ca1c5716",
   "metadata": {},
   "outputs": [
    {
     "data": {
      "image/png": "[encoded data removed]",
      "text/plain": [
       "<Figure size 640x480 with 1 Axes>"
      ]
     },
     "metadata": {},
     "output_type": "display_data"
    }
   ],
   "source": [
    "# Next, lets create random color image\n",
    "noise_color_img = np.random.randint(0, high=256, size = (100, 100, 3), dtype=np.uint8)\n",
    "\n",
    "plt.imshow(noise_color_img)\n",
    "plt.title(\"random noise color image\")\n",
    "plt.xticks([]), plt.yticks([])\n",
    "plt.show()"
   ]
  },
  {
   "attachments": {
    "5d4026b2-6b16-4515-8e03-3065096fa0e8.png": {
     "image/png": "[encoded data removed]"
    }
   },
   "cell_type": "markdown",
   "id": "7fe7b83f",
   "metadata": {},
   "source": [
    "## Exercises\n",
    "1. Find the range of values for each of the following data types:\n",
    "    * `uint8`\n",
    "    * `int8`\n",
    "    * `uint32`\n",
    "    * `int32`\n",
    "2. Try to write a simple custom function to determine whether a given integer is odd or even number.\n",
    "3. Write a simple example code to show that Numpy is more efficient in numerical computation of large arrays of data than equivalent Python list.\n",
    "4. Run the following codes:\n",
    "```python\n",
    "    # create a 1D array\n",
    "    my_arr = np.arange(10)\n",
    "    print(\"Initial my_arr: \", my_arr)\n",
    "    arr_slice = my_arr\n",
    "    print(\"Initial arr_slice: \", arr_slice)\n",
    "\n",
    "    # change the first element of arr_slice\n",
    "    arr_slice[0] = 55\n",
    "\n",
    "    print(\"my_arr: \", my_arr)\n",
    "    print(\"arr_slice: \", arr_slice)\n",
    "```\n",
    "\n",
    "What do you notice? Propose a way to reassign `arr_slice` with new value **without modifying** `my_arr`.\n",
    "\n",
    "5. Create an image as shown as the following with the help of Numpy and matplotlib modules. You can arbitrarily set the dimension of the image and white circular spot at the middle.\n",
    "\n",
    "![image.png](attachment:5d4026b2-6b16-4515-8e03-3065096fa0e8.png)"
   ]
  },
  {
   "cell_type": "code",
   "execution_count": 35,
   "id": "67f97bb0",
   "metadata": {},
   "outputs": [
    {
     "name": "stdout",
     "output_type": "stream",
     "text": [
      "uint8 range is from 0 to 255.\n",
      "int8 range is from -128 to 127.\n",
      "uint32 range is from 0 to 4,294,967,295.\n",
      "int32 range is from -2,147,483,648 to 2,147,483,647.\n"
     ]
    }
   ],
   "source": [
    "unit8Min = np.iinfo(np.uint8).min\n",
    "unit8Max = np.iinfo(np.uint8).max\n",
    "\n",
    "print(f\"uint8 range is from {unit8Min:d} to {unit8Max:d}.\")\n",
    "\n",
    "#int8\n",
    "int8Min = np.iinfo(np.int8).min\n",
    "int8Max = np.iinfo(np.int8).max\n",
    "\n",
    "print(f\"int8 range is from {int8Min:d} to {int8Max:d}.\")\n",
    "\n",
    "#uint32\n",
    "uint32Min = np.iinfo(np.uint32).min\n",
    "uint32Max = format(np.iinfo(np.uint32).max, \",\")\n",
    "\n",
    "print(f\"uint32 range is from {uint32Min:d} to {uint32Max}.\")\n",
    "\n",
    "#int32\n",
    "int32Min = format(np.iinfo(np.int32).min, \",\")\n",
    "int32Max = format(np.iinfo(np.int32).max, \",\")\n",
    "\n",
    "print(f\"int32 range is from {int32Min} to {int32Max}.\")"
   ]
  },
  {
   "cell_type": "code",
   "execution_count": 41,
   "id": "d09f614b-231d-4884-b11e-5a1b441df069",
   "metadata": {},
   "outputs": [],
   "source": [
    "def odd_even(input):\n",
    "    if isinstance(input,int):\n",
    "        if input%2 == 0:\n",
    "            print(input,\" is a even number.\")\n",
    "        elif input%2 == 1:\n",
    "            print(input,\" is a odd number.\")\n",
    "        elif input == 0:\n",
    "            print(input,\" is 0.\")\n",
    "        else:\n",
    "            print(input,\" is broken?\")\n",
    "    else:\n",
    "        print(input,\" is not an integer\")"
   ]
  },
  {
   "cell_type": "code",
   "execution_count": 51,
   "id": "28331779-35b4-4c27-9370-55a0a5688e54",
   "metadata": {},
   "outputs": [
    {
     "name": "stdout",
     "output_type": "stream",
     "text": [
      "Numpy time taken : 0.017390966415405273\n",
      "Python time taken: 0.8085031509399414\n"
     ]
    }
   ],
   "source": [
    "import time\n",
    "\n",
    "size = 10000000\n",
    "\n",
    "#declare numpy arrays\n",
    "nArr1 = np.arange(size)\n",
    "nArr2 = np.arange(size)\n",
    "\n",
    "#declare python list\n",
    "pArr1 = range(size)\n",
    "pArr2 = range(size)\n",
    "\n",
    "#calculation of numpy array computation time\n",
    "nStart = time.time()\n",
    "NArr = nArr1 * nArr2\n",
    "nStop = time.time()\n",
    "nTime = nStop - nStart\n",
    "\n",
    "#calculation of python list computation time\n",
    "pStart = time.time()\n",
    "PArr = [(l1 * l2) for l1,l2 in zip(pArr1, pArr2)]\n",
    "pStop = time.time()\n",
    "pTime = pStop - pStart\n",
    "\n",
    "print(\"Numpy time taken :\",nTime)\n",
    "print(\"Python time taken:\",pTime)"
   ]
  },
  {
   "cell_type": "code",
   "execution_count": 54,
   "id": "6e3608eb-23c6-401e-82b9-6f8e0408a7ad",
   "metadata": {},
   "outputs": [
    {
     "name": "stdout",
     "output_type": "stream",
     "text": [
      "Initial my_arr:  [0 1 2 3 4 5 6 7 8 9]\n",
      "Initial arr_slice:  [0 1 2 3 4 5 6 7 8 9]\n",
      "my_arr:  [0 1 2 3 4 5 6 7 8 9]\n",
      "arr_slice:  [55  1  2  3  4  5  6  7  8  9]\n"
     ]
    }
   ],
   "source": [
    "    # create a 1D array\n",
    "    my_arr = np.arange(10)\n",
    "    print(\"Initial my_arr: \", my_arr)\n",
    "    arr_slice = my_arr.copy()\n",
    "    print(\"Initial arr_slice: \", arr_slice)\n",
    "\n",
    "    # change the first element of arr_slice\n",
    "    arr_slice[0] = 55\n",
    "\n",
    "    print(\"my_arr: \", my_arr)\n",
    "    print(\"arr_slice: \", arr_slice)"
   ]
  },
  {
   "cell_type": "code",
   "execution_count": 70,
   "id": "b2f82322-49f1-4405-a274-8716c6a4522c",
   "metadata": {},
   "outputs": [
    {
     "data": {
      "image/png": "[encoded data removed]",
      "text/plain": [
       "<Figure size 700x700 with 1 Axes>"
      ]
     },
     "metadata": {},
     "output_type": "display_data"
    }
   ],
   "source": [
    "import matplotlib.pyplot as plt\n",
    "\n",
    "def createImage(radius, dim=None):\n",
    "    if (dim == None):\n",
    "        dim = (radius*10, radius*10)\n",
    "    \n",
    "    #create a zero matrix as background\n",
    "    circle = np.zeros(dim)\n",
    "    \n",
    "    #create coordinate grids x and y\n",
    "    x, y = np.meshgrid(np.arange(dim[0]), np.arange(dim[1]))\n",
    "    \n",
    "    #center\n",
    "    centerX = dim[0]/2\n",
    "    centerY = dim[1]/2\n",
    "    \n",
    "    #calculate the distance from the center\n",
    "    d = np.sqrt((x - centerX)**2 + (y - centerY)**2)\n",
    "    \n",
    "    # Create a mask where the distance is less than or equal to the radius\n",
    "    white = d <= radius\n",
    "    \n",
    "    circle[white] = 1\n",
    "    \n",
    "    return circle\n",
    "\n",
    "#test case for radius 15\n",
    "image = createImage(15)\n",
    "\n",
    "plt.figure(figsize=(7, 7))\n",
    "plt.imshow(image, cmap='gray')\n",
    "plt.axis('off')\n",
    "plt.show()"
   ]
  }
 ],
 "metadata": {
  "kernelspec": {
   "display_name": "Python 3 (ipykernel)",
   "language": "python",
   "name": "python3"
  },
  "language_info": {
   "codemirror_mode": {
    "name": "ipython",
    "version": 3
   },
   "file_extension": ".py",
   "mimetype": "text/x-python",
   "name": "python",
   "nbconvert_exporter": "python",
   "pygments_lexer": "ipython3",
   "version": "3.12.4"
  }
 },
 "nbformat": 4,
 "nbformat_minor": 5
}
